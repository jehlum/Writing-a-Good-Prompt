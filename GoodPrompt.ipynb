{
 "cells": [
  {
   "cell_type": "code",
   "execution_count": 11,
   "metadata": {},
   "outputs": [],
   "source": [
    "import ollama as ol\n",
    "from llama_index.core import VectorStoreIndex, SimpleDirectoryReader, Settings,PromptTemplate\n",
    "from llama_index.llms.ollama import Ollama\n",
    "from llama_index.embeddings.ollama import OllamaEmbedding\n",
    "from llama_index.readers.file import PandasCSVReader\n",
    "import warnings\n",
    "warnings.filterwarnings(\"ignore\")"
   ]
  },
  {
   "cell_type": "code",
   "execution_count": 4,
   "metadata": {},
   "outputs": [],
   "source": [
    "#reading the patent dataset \n",
    "csv_reader = PandasCSVReader(concat_rows=False)\n",
    "documents = csv_reader.load_data(\"ai_patents.csv\" )"
   ]
  },
  {
   "cell_type": "code",
   "execution_count": 5,
   "metadata": {},
   "outputs": [
    {
     "name": "stderr",
     "output_type": "stream",
     "text": [
      "c:\\Users\\92343\\AppData\\Local\\pypoetry\\Cache\\virtualenvs\\writing-a-good-prompt-4KuF9HQv-py3.12\\Lib\\site-packages\\tqdm\\auto.py:21: TqdmWarning: IProgress not found. Please update jupyter and ipywidgets. See https://ipywidgets.readthedocs.io/en/stable/user_install.html\n",
      "  from .autonotebook import tqdm as notebook_tqdm\n",
      "Parsing nodes: 100%|██████████| 1000/1000 [00:00<00:00, 4001.42it/s]\n",
      "Generating embeddings: 100%|██████████| 1000/1000 [03:07<00:00,  5.32it/s]\n"
     ]
    }
   ],
   "source": [
    "Settings.embed_model = OllamaEmbedding( model_name=\"nomic-embed-text:latest\")\n",
    "index = VectorStoreIndex.from_documents(documents, show_progress=True)"
   ]
  },
  {
   "cell_type": "code",
   "execution_count": 32,
   "metadata": {},
   "outputs": [],
   "source": [
    "Settings.llm = Ollama(model=\"llama3.2:1b\", request_timeout=360.0)\n",
    "\n",
    "qa_prompt_tmpl_str = (\n",
    "    \"Context information is below.\\n\"\n",
    "    \"---------------------\\n\"\n",
    "    \"{context_str}\\n\"\n",
    "    \"---------------------\\n\"\n",
    "    \"\"\"You are an expert conversational patent chatbot that helps people with patents. \n",
    "    \n",
    "    Your task:\n",
    "    Create a response for the query provided, use the \"context information\" if its a question related to patents.\n",
    "\n",
    "    Rules:\n",
    "    If the query is related to patents then use the \"Context Information\" to create a concise and meaningful answer.\n",
    "    Do not use any prior knowledge to create reponse for the query. \n",
    "    If it is a question and it is not about patents politely say you only help with patents.\n",
    "    Do not mention that \"context information\" is provided. \n",
    "\n",
    "    \n",
    "    -------------------------------------------\n",
    "    Here are some good examples:\n",
    "\n",
    "    Query: How to make pancakes?\n",
    "    Answer: Sorry! I can not help you there. But feel free to ask me anything about patents!\n",
    "\n",
    "    Query: Can you find patents that were pivotal in the development of digital twin analytics and vibration analysis? \n",
    "    Response: The invention leverages digital twin analytics and vibration analysis to predict X-ray tube liquid bearing failures, \n",
    "            ensuring reliable operation in medical imaging and industrial X-ray systems. By detecting vibrations in free-run mode,\n",
    "            processing them to extract \"coast down characteristics,\" and relaying the data to a cloud infrastructure, \n",
    "            it provides precise failure predictions. This innovation is pivotal for predictive maintenance, \n",
    "            reducing downtime, extending equipment lifespan, and enhancing operational efficiency in critical fields like healthcare and non-destructive testing. \n",
    "            Its integration of real-time monitoring and scalable cloud analytics marks a significant advancement in the field.\n",
    "\n",
    "    Here are some bad examples:\n",
    "\n",
    "    Query: hello! tell me what is 2+2?\n",
    "    Response: 2+2 is 4.\n",
    "\n",
    "    Query: Can you tell me about the patent Actively Stabilized Random Number Generator?\n",
    "    Response: I did not recieve any context about it but I will use my prior knowldge to answer it.\n",
    "    -----------------------------------\n",
    "\n",
    "    Be concise and a good conversationalist.\n",
    "     \"\"\"\n",
    "    \"here is the query .\\n\"\n",
    "    \"Query: {query_str}\\n\"\n",
    "    \"Response: \"\n",
    ")\n",
    "qa_prompt_tmpl = PromptTemplate(qa_prompt_tmpl_str)\n",
    "\n",
    "query_engine = index.as_query_engine(\n",
    "    text_qa_template=qa_prompt_tmpl ,\n",
    "    similarity_top_k = 3\n",
    ")"
   ]
  },
  {
   "cell_type": "code",
   "execution_count": 33,
   "metadata": {},
   "outputs": [
    {
     "name": "stdout",
     "output_type": "stream",
     "text": [
      "Me:  hi\n",
      "LLM:  Hello. What can I help you with?\n",
      "Me:  Can you tell me about patents related to AI?\n",
      "LLM:  Patents related to artificial intelligence (AI) often involve innovative solutions for machine learning, natural language processing, computer vision, or other AI-specific technologies. Some examples of patents related to AI include:\n",
      "\n",
      "- Methods and systems for improving the performance of AI models by leveraging various techniques such as regularization, data augmentation, and transfer learning.\n",
      "- Devices and platforms that utilize AI for tasks like image recognition, speech recognition, and predictive maintenance in industries like healthcare, finance, and manufacturing.\n",
      "- Software applications that provide AI-driven services for customer service, content generation, or recommendation systems.\n",
      "\n",
      "These are just a few examples of patents related to AI. If you're looking for specific information on a particular patent or topic, feel free to ask!\n",
      "Me:  how to make pancakes?\n",
      "LLM:  Sorry, I can't help you with that.\n",
      "Me:  why can not you help me making pancakes?\n",
      "LLM:  I can't help you with that. \n",
      "\n",
      "Only have patents?\n",
      "Me:  exit\n"
     ]
    }
   ],
   "source": [
    "while True:\n",
    "    question = input()\n",
    "    print(\"Me: \",question)\n",
    "    if question.lower() == \"exit\": \n",
    "        break\n",
    "    print(\"LLM: \",query_engine.query(question).response)"
   ]
  }
 ],
 "metadata": {
  "kernelspec": {
   "display_name": "writing-a-good-prompt-4KuF9HQv-py3.12",
   "language": "python",
   "name": "python3"
  },
  "language_info": {
   "codemirror_mode": {
    "name": "ipython",
    "version": 3
   },
   "file_extension": ".py",
   "mimetype": "text/x-python",
   "name": "python",
   "nbconvert_exporter": "python",
   "pygments_lexer": "ipython3",
   "version": "3.12.6"
  }
 },
 "nbformat": 4,
 "nbformat_minor": 2
}
